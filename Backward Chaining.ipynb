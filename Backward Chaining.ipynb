{
 "cells": [
  {
   "cell_type": "code",
   "execution_count": 4,
   "id": "69c0a286",
   "metadata": {},
   "outputs": [
    {
     "name": "stdout",
     "output_type": "stream",
     "text": [
      "the goal'C' cannot be reached\n"
     ]
    }
   ],
   "source": [
    "#Define the knowledge base as A DICTIONARY OF RULES\n",
    "\n",
    "knowledge_base={\n",
    "    \"rule1\":{\n",
    "        \"if\":[\"A\",\"B\"],\n",
    "        \"then\":\"C\"\n",
    "    },\n",
    "    \n",
    "    \"rule2\":{\n",
    "    \"if\":[\"D\"],\n",
    "    \"then\":\"A\"\n",
    "    },\n",
    "\n",
    "    \"rule3\":{\n",
    "    \"if\":[\"E\"],\n",
    "    \"then\":\"B\"\n",
    "    },\n",
    "    \n",
    "    \"rule4\":{\n",
    "    \"if\":[\"F\"],\n",
    "    \"then\":\"D\"\n",
    "    },\n",
    "    \n",
    "    \"rule5\":{\n",
    "    \"if\":[\"G\"],\n",
    "    \"then\":\"E\"\n",
    "    },\n",
    "    \n",
    "}\n",
    "\n",
    "#define a funxction to perform backward chaining\n",
    "\n",
    "def backward_chaining(goal,known_facts):\n",
    "    if goal in known_facts:\n",
    "        return True\n",
    "    for rule,value in knowledge_base.items():\n",
    "        if goal in value[\"if\"]:\n",
    "            all_conditions_met=all(condition in known_facts for condition in value[\"if\"])\n",
    "            \n",
    "            if all_conditions_met and backward_chaining(value[\"then\"],known_facts):\n",
    "                return True\n",
    "            return False\n",
    "        \n",
    "#Define the goal and known facts\n",
    "goal=\"C\"\n",
    "known_facts=[\"G\",\"F\",\"E\"]\n",
    "\n",
    "#checks if the goal can be reched using backward checking\n",
    "if backward_chaining(goal,known_facts):\n",
    "    print(f\"the goal'{goal}' can be reached\")\n",
    "else:\n",
    "    print(f\"the goal'{goal}' cannot be reached\")      "
   ]
  },
  {
   "cell_type": "code",
   "execution_count": null,
   "id": "f3f15d64",
   "metadata": {},
   "outputs": [],
   "source": []
  }
 ],
 "metadata": {
  "kernelspec": {
   "display_name": "Python 3 (ipykernel)",
   "language": "python",
   "name": "python3"
  },
  "language_info": {
   "codemirror_mode": {
    "name": "ipython",
    "version": 3
   },
   "file_extension": ".py",
   "mimetype": "text/x-python",
   "name": "python",
   "nbconvert_exporter": "python",
   "pygments_lexer": "ipython3",
   "version": "3.9.12"
  }
 },
 "nbformat": 4,
 "nbformat_minor": 5
}

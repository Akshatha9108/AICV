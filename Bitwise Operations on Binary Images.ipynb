{
 "cells": [
  {
   "cell_type": "code",
   "execution_count": null,
   "id": "c8334e2b",
   "metadata": {},
   "outputs": [],
   "source": [
    "import numpy as np\n",
    "import cv2"
   ]
  },
  {
   "cell_type": "code",
   "execution_count": null,
   "id": "7c79c05d",
   "metadata": {},
   "outputs": [],
   "source": [
    "#creating a black screen image using numpy.zeros function\n",
    "img_1=np.zeros((512,512,3),dtype='uint8')\n",
    "img_2=np.zeros((512,512,3),dtype='uint8')\n",
    "img_1=cv2.rectangle(img_1,(100,200),(300,450),(255,255,255),-1)\n",
    "img_2=cv2.rectangle(img_2,(100,200),(400,450),(255,255,255),-1)\n",
    "\n",
    "bitwise_and=cv2.bitwise_and(img_2,img_1,mask=None)\n",
    "bitwise_or=cv2.bitwise_or(img_2,img_1,mask=None)\n",
    "bitwise_xor=cv2.bitwise_xor(img_2,img_1,mask=None)\n",
    "bitwise_not=cv2.bitwise_not(img_2, mask=None)\n",
    "\n"
   ]
  },
  {
   "cell_type": "code",
   "execution_count": null,
   "id": "a30a0441",
   "metadata": {},
   "outputs": [],
   "source": [
    "cv2.imshow(\"Image_1\",img_1)\n",
    "cv2.imshow(\"Image_2\",img_2)\n",
    "cv2.imshow(\"bitwise_and\",bitwise_and)\n",
    "cv2.imshow(\"bitwise_or\",bitwise_or)\n",
    "cv2.imshow(\"bitwise_xor\",bitwise_xor)\n",
    "cv2.imshow(\"bitwise_not\",bitwise_not)"
   ]
  },
  {
   "cell_type": "code",
   "execution_count": null,
   "id": "a17a6c2d",
   "metadata": {},
   "outputs": [],
   "source": [
    "cv2.waitKey(0)\n",
    "cv2.destroyAllWindows()"
   ]
  },
  {
   "cell_type": "code",
   "execution_count": null,
   "id": "d2614183",
   "metadata": {},
   "outputs": [],
   "source": []
  }
 ],
 "metadata": {
  "kernelspec": {
   "display_name": "Python 3 (ipykernel)",
   "language": "python",
   "name": "python3"
  },
  "language_info": {
   "codemirror_mode": {
    "name": "ipython",
    "version": 3
   },
   "file_extension": ".py",
   "mimetype": "text/x-python",
   "name": "python",
   "nbconvert_exporter": "python",
   "pygments_lexer": "ipython3",
   "version": "3.9.12"
  }
 },
 "nbformat": 4,
 "nbformat_minor": 5
}

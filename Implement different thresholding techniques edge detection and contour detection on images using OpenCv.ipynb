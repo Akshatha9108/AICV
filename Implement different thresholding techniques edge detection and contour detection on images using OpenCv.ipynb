{
 "cells": [
  {
   "cell_type": "markdown",
   "id": "d906db64",
   "metadata": {},
   "source": [
    "## CANNY EDGE DETECTION"
   ]
  },
  {
   "cell_type": "code",
   "execution_count": null,
   "id": "6229cd6d",
   "metadata": {},
   "outputs": [],
   "source": [
    "import cv2 \n",
    "\n",
    "image = cv2.imread('t1.jpg')\n",
    "gray = cv2.cvtColor(image, cv2.COLOR_BGR2GRAY)\n",
    "blurred = cv2.GaussianBlur(gray, (3,3),0)\n",
    "\n",
    "edged = cv2.Canny(blurred, 10, 100) #wide threshold\n",
    "\n",
    "cv2.imshow(\"Original image\", image)\n",
    "cv2.imshow(\"Wide Threshold Edged image\", edged)\n",
    "cv2.waitKey(0)"
   ]
  },
  {
   "cell_type": "code",
   "execution_count": null,
   "id": "6fa56aca",
   "metadata": {},
   "outputs": [],
   "source": [
    "import cv2 \n",
    "\n",
    "image = cv2.imread('t1.jpg')\n",
    "gray = cv2.cvtColor(image, cv2.COLOR_BGR2GRAY)\n",
    "blurred = cv2.GaussianBlur(gray, (3,3),0)\n",
    "\n",
    "edged = cv2.Canny(blurred, 30,150) #mid threshold\n",
    "\n",
    "cv2.imshow(\"Original image\", image)\n",
    "cv2.imshow(\"Mid Threshold Edged image\", edged)\n",
    "cv2.waitKey(0)"
   ]
  },
  {
   "cell_type": "code",
   "execution_count": null,
   "id": "c4490f92",
   "metadata": {},
   "outputs": [],
   "source": [
    "import cv2 \n",
    "\n",
    "image = cv2.imread('t1.jpg')\n",
    "gray = cv2.cvtColor(image, cv2.COLOR_BGR2GRAY)\n",
    "blurred = cv2.GaussianBlur(gray, (3,3),0)\n",
    "\n",
    "edged = cv2.Canny(blurred, 240,250) #tide threshold\n",
    "\n",
    "cv2.imshow(\"Original image\", image)\n",
    "cv2.imshow(\"Tide Threshold Edged image\", edged)\n",
    "cv2.waitKey(0)"
   ]
  },
  {
   "cell_type": "code",
   "execution_count": null,
   "id": "15fa9eaf",
   "metadata": {},
   "outputs": [],
   "source": [
    "import cv2\n",
    "image = cv2.imread('t1.jpg')\n",
    "gray = cv2.cvtColor(image, cv2.COLOR_BGR2GRAY)\n",
    "blurred = cv2.GaussianBlur(gray, (3,3),0)\n",
    "edged = cv2.Canny(blurred, 10, 100) #wide threshold\n",
    "\n",
    "contours, _ = cv2.findContours(edged, cv2.RETR_EXTERNAL, cv2.CHAIN_APPROX_SIMPLE)\n",
    "image_copy = image.copy()\n",
    "\n",
    "#draw the contours on a copy of the original image\n",
    "cv2.drawContours(image_copy, contours, -1, (0,255,0), 2)\n",
    "print(len(contours), \"objects were found in this image.\")\n",
    "\n",
    "cv2.imshow(\"Edged image\", edged)\n",
    "cv2.imshow(\"contours\", image_copy)\n",
    "cv2.waitKey(0)"
   ]
  },
  {
   "cell_type": "code",
   "execution_count": null,
   "id": "f56f842a",
   "metadata": {},
   "outputs": [],
   "source": []
  }
 ],
 "metadata": {
  "kernelspec": {
   "display_name": "Python 3 (ipykernel)",
   "language": "python",
   "name": "python3"
  },
  "language_info": {
   "codemirror_mode": {
    "name": "ipython",
    "version": 3
   },
   "file_extension": ".py",
   "mimetype": "text/x-python",
   "name": "python",
   "nbconvert_exporter": "python",
   "pygments_lexer": "ipython3",
   "version": "3.9.16"
  }
 },
 "nbformat": 4,
 "nbformat_minor": 5
}

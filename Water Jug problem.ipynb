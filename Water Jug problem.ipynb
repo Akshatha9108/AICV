{
 "cells": [
  {
   "cell_type": "code",
   "execution_count": 2,
   "id": "176b4174",
   "metadata": {},
   "outputs": [
    {
     "name": "stdout",
     "output_type": "stream",
     "text": [
      "Solution found FillJug1\n",
      "FillJug2EmptyJug1\n",
      "Pour jug2 into jug1\n",
      "FillJug2Pour jug2 into jug1\n",
      "\n"
     ]
    }
   ],
   "source": [
    "def water_jug_dfs(jug1_capacity,jug2_capacity,target_capacity):\n",
    "    def dfs(jug1,jug2,path):\n",
    "        if jug1 == target_capacity or jug2 == target_capacity:\n",
    "            print(\"Solution found\",path)\n",
    "            return\n",
    "        \n",
    "        #fill jug1\n",
    "        if jug1 < jug1_capacity:\n",
    "            new_jug1 = jug1_capacity\n",
    "            new_jug2 = jug2\n",
    "            if(new_jug1, new_jug2) not in visited:\n",
    "                visited.add((new_jug1, new_jug2))\n",
    "                dfs(new_jug1, new_jug2, path+f\"FillJug1\\n\")\n",
    "                \n",
    "       #fill jug2\n",
    "        if jug2 < jug2_capacity:\n",
    "            new_jug1 = jug1\n",
    "            new_jug2 = jug2_capacity\n",
    "            if(new_jug1,new_jug2) not in visited:\n",
    "                visited.add((new_jug1, new_jug2))\n",
    "                dfs(new_jug1, new_jug2, path + f\"FillJug2\")\n",
    "                    \n",
    "       #pour water from jug1 to jug2\n",
    "        if jug1 > 0 and jug2 < jug2_capacity:\n",
    "           pour_amount = min(jug1,jug2_capacity-jug2)\n",
    "           new_jug1 = jug1 - pour_amount\n",
    "           new_jug2 = jug2 + pour_amount\n",
    "           if(new_jug1,new_jug2) not in visited:\n",
    "              visited.add((new_jug1, new_jug2))\n",
    "              dfs(new_jug1,new_jug2,path + f\"Pour jug1 into jug2\\n\")   \n",
    "                    \n",
    "      #pour water from jug2 to jug1\n",
    "        if jug2 > 0 and jug1 < jug1_capacity:\n",
    "           pour_amount=min(jug2,jug1_capacity-jug1)\n",
    "           new_jug1=jug1 + pour_amount\n",
    "           new_jug2=jug2 - pour_amount\n",
    "           if(new_jug1,new_jug2)not in visited:\n",
    "              visited.add((new_jug1,new_jug2))\n",
    "              dfs(new_jug1,new_jug2,path + f\"Pour jug2 into jug1\\n\")  \n",
    "                    \n",
    "       #empty jug1\n",
    "        if jug1 > 0:\n",
    "            new_jug1 = 0\n",
    "            new_jug2 = jug2\n",
    "            if(new_jug1,new_jug2) not in visited:\n",
    "               visited.add((new_jug1, new_jug2))     \n",
    "            dfs(new_jug1, new_jug2, path + f\"EmptyJug1\\n\")        \n",
    "                    \n",
    "        #empty jug2\n",
    "        if jug2 > 0:\n",
    "            new_jug1 = jug1\n",
    "            new_jug1 = 0\n",
    "            if(new_jug1,new_jug2)not in visited:\n",
    "                visited.add((new_jug1,new_jug2))     \n",
    "                dfs(new_jug1,new_jug2,path+f\"EmptyJug2\\n\") \n",
    "                    \n",
    "                    \n",
    "    visited=set()\n",
    "    dfs(0, 0,\"\")\n",
    "                    \n",
    "     #Exapmle usage:\n",
    "jug1_capacity=4\n",
    "jug2_capacity=3\n",
    "target_capacity=2\n",
    "                    \n",
    "water_jug_dfs(jug1_capacity,jug2_capacity,target_capacity)                \n",
    "                    "
   ]
  },
  {
   "cell_type": "code",
   "execution_count": null,
   "id": "15a6cf97",
   "metadata": {},
   "outputs": [],
   "source": [
    "\n",
    "        "
   ]
  },
  {
   "cell_type": "code",
   "execution_count": null,
   "id": "f16fe319",
   "metadata": {},
   "outputs": [],
   "source": []
  }
 ],
 "metadata": {
  "kernelspec": {
   "display_name": "Python 3 (ipykernel)",
   "language": "python",
   "name": "python3"
  },
  "language_info": {
   "codemirror_mode": {
    "name": "ipython",
    "version": 3
   },
   "file_extension": ".py",
   "mimetype": "text/x-python",
   "name": "python",
   "nbconvert_exporter": "python",
   "pygments_lexer": "ipython3",
   "version": "3.9.12"
  }
 },
 "nbformat": 4,
 "nbformat_minor": 5
}

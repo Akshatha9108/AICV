{
 "cells": [
  {
   "cell_type": "code",
   "execution_count": 5,
   "id": "8ecc2107",
   "metadata": {},
   "outputs": [
    {
     "name": "stdout",
     "output_type": "stream",
     "text": [
      "optimal Tour: [0, 1, 2, 3, 4, 0]\n"
     ]
    }
   ],
   "source": [
    "import math\n",
    "\n",
    "def distance(p1,p2):\n",
    "    return math.sqrt((p1[0]-p2[0])**2+(p1[1]-p2[1])**2)\n",
    "\n",
    "def nearest_neighbor(p):\n",
    "    n=len(p)\n",
    "    unvisited=set(range(n))\n",
    "    tour=[0]\n",
    "    unvisited.remove(0)\n",
    "    \n",
    "    while unvisited:\n",
    "        current_point=tour[-1]\n",
    "        nearest_point=min(unvisited,key=lambda x:distance(p[current_point],p[x]))\n",
    "        tour.append(nearest_point)\n",
    "        unvisited.remove(nearest_point)\n",
    "    tour.append(tour[0])\n",
    "        \n",
    "    return tour\n",
    "    \n",
    "       #example usage\n",
    "if __name__==\"__main__\" :\n",
    "    #define the points as(x,y) coordinates\n",
    "             p=[(0,0),(1,2),(2,3),(3,4),(4,2)]\n",
    "\n",
    "             tour=nearest_neighbor(p)\n",
    "             print(\"optimal Tour:\",tour)"
   ]
  },
  {
   "cell_type": "code",
   "execution_count": null,
   "id": "64053ca9",
   "metadata": {},
   "outputs": [],
   "source": []
  },
  {
   "cell_type": "code",
   "execution_count": null,
   "id": "d52a643a",
   "metadata": {},
   "outputs": [],
   "source": [
    "\n"
   ]
  }
 ],
 "metadata": {
  "kernelspec": {
   "display_name": "Python 3 (ipykernel)",
   "language": "python",
   "name": "python3"
  },
  "language_info": {
   "codemirror_mode": {
    "name": "ipython",
    "version": 3
   },
   "file_extension": ".py",
   "mimetype": "text/x-python",
   "name": "python",
   "nbconvert_exporter": "python",
   "pygments_lexer": "ipython3",
   "version": "3.9.12"
  }
 },
 "nbformat": 4,
 "nbformat_minor": 5
}
